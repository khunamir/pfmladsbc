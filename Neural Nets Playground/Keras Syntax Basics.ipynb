{
 "cells": [
  {
   "cell_type": "markdown",
   "id": "b217522a",
   "metadata": {},
   "source": [
    "# Keras Syntax Basics"
   ]
  },
  {
   "cell_type": "code",
   "execution_count": 1,
   "id": "84f887b1",
   "metadata": {},
   "outputs": [],
   "source": [
    "import numpy as np\n",
    "import pandas as pd"
   ]
  },
  {
   "cell_type": "markdown",
   "id": "dc9c0c39",
   "metadata": {},
   "source": [
    "### Loading the data"
   ]
  },
  {
   "cell_type": "code",
   "execution_count": 2,
   "id": "4f538b92",
   "metadata": {},
   "outputs": [],
   "source": [
    "df = pd.read_csv('fake_reg.csv')"
   ]
  },
  {
   "cell_type": "code",
   "execution_count": 3,
   "id": "700dc30c",
   "metadata": {},
   "outputs": [
    {
     "data": {
      "text/html": [
       "<div>\n",
       "<style scoped>\n",
       "    .dataframe tbody tr th:only-of-type {\n",
       "        vertical-align: middle;\n",
       "    }\n",
       "\n",
       "    .dataframe tbody tr th {\n",
       "        vertical-align: top;\n",
       "    }\n",
       "\n",
       "    .dataframe thead th {\n",
       "        text-align: right;\n",
       "    }\n",
       "</style>\n",
       "<table border=\"1\" class=\"dataframe\">\n",
       "  <thead>\n",
       "    <tr style=\"text-align: right;\">\n",
       "      <th></th>\n",
       "      <th>price</th>\n",
       "      <th>feature1</th>\n",
       "      <th>feature2</th>\n",
       "    </tr>\n",
       "  </thead>\n",
       "  <tbody>\n",
       "    <tr>\n",
       "      <th>0</th>\n",
       "      <td>461.527929</td>\n",
       "      <td>999.787558</td>\n",
       "      <td>999.766096</td>\n",
       "    </tr>\n",
       "    <tr>\n",
       "      <th>1</th>\n",
       "      <td>548.130011</td>\n",
       "      <td>998.861615</td>\n",
       "      <td>1001.042403</td>\n",
       "    </tr>\n",
       "    <tr>\n",
       "      <th>2</th>\n",
       "      <td>410.297162</td>\n",
       "      <td>1000.070267</td>\n",
       "      <td>998.844015</td>\n",
       "    </tr>\n",
       "    <tr>\n",
       "      <th>3</th>\n",
       "      <td>540.382220</td>\n",
       "      <td>999.952251</td>\n",
       "      <td>1000.440940</td>\n",
       "    </tr>\n",
       "    <tr>\n",
       "      <th>4</th>\n",
       "      <td>546.024553</td>\n",
       "      <td>1000.446011</td>\n",
       "      <td>1000.338531</td>\n",
       "    </tr>\n",
       "  </tbody>\n",
       "</table>\n",
       "</div>"
      ],
      "text/plain": [
       "        price     feature1     feature2\n",
       "0  461.527929   999.787558   999.766096\n",
       "1  548.130011   998.861615  1001.042403\n",
       "2  410.297162  1000.070267   998.844015\n",
       "3  540.382220   999.952251  1000.440940\n",
       "4  546.024553  1000.446011  1000.338531"
      ]
     },
     "execution_count": 3,
     "metadata": {},
     "output_type": "execute_result"
    }
   ],
   "source": [
    "df.head()"
   ]
  },
  {
   "cell_type": "code",
   "execution_count": 4,
   "id": "a618503d",
   "metadata": {},
   "outputs": [
    {
     "name": "stdout",
     "output_type": "stream",
     "text": [
      "<class 'pandas.core.frame.DataFrame'>\n",
      "RangeIndex: 1000 entries, 0 to 999\n",
      "Data columns (total 3 columns):\n",
      " #   Column    Non-Null Count  Dtype  \n",
      "---  ------    --------------  -----  \n",
      " 0   price     1000 non-null   float64\n",
      " 1   feature1  1000 non-null   float64\n",
      " 2   feature2  1000 non-null   float64\n",
      "dtypes: float64(3)\n",
      "memory usage: 23.6 KB\n"
     ]
    }
   ],
   "source": [
    "df.info()"
   ]
  },
  {
   "cell_type": "code",
   "execution_count": 5,
   "id": "1637d9b1",
   "metadata": {},
   "outputs": [
    {
     "data": {
      "text/html": [
       "<div>\n",
       "<style scoped>\n",
       "    .dataframe tbody tr th:only-of-type {\n",
       "        vertical-align: middle;\n",
       "    }\n",
       "\n",
       "    .dataframe tbody tr th {\n",
       "        vertical-align: top;\n",
       "    }\n",
       "\n",
       "    .dataframe thead th {\n",
       "        text-align: right;\n",
       "    }\n",
       "</style>\n",
       "<table border=\"1\" class=\"dataframe\">\n",
       "  <thead>\n",
       "    <tr style=\"text-align: right;\">\n",
       "      <th></th>\n",
       "      <th>price</th>\n",
       "      <th>feature1</th>\n",
       "      <th>feature2</th>\n",
       "    </tr>\n",
       "  </thead>\n",
       "  <tbody>\n",
       "    <tr>\n",
       "      <th>count</th>\n",
       "      <td>1000.000000</td>\n",
       "      <td>1000.000000</td>\n",
       "      <td>1000.000000</td>\n",
       "    </tr>\n",
       "    <tr>\n",
       "      <th>mean</th>\n",
       "      <td>498.673029</td>\n",
       "      <td>1000.014171</td>\n",
       "      <td>999.979847</td>\n",
       "    </tr>\n",
       "    <tr>\n",
       "      <th>std</th>\n",
       "      <td>93.785431</td>\n",
       "      <td>0.974018</td>\n",
       "      <td>0.948330</td>\n",
       "    </tr>\n",
       "    <tr>\n",
       "      <th>min</th>\n",
       "      <td>223.346793</td>\n",
       "      <td>997.058347</td>\n",
       "      <td>996.995651</td>\n",
       "    </tr>\n",
       "    <tr>\n",
       "      <th>25%</th>\n",
       "      <td>433.025732</td>\n",
       "      <td>999.332068</td>\n",
       "      <td>999.316106</td>\n",
       "    </tr>\n",
       "    <tr>\n",
       "      <th>50%</th>\n",
       "      <td>502.382117</td>\n",
       "      <td>1000.009915</td>\n",
       "      <td>1000.002243</td>\n",
       "    </tr>\n",
       "    <tr>\n",
       "      <th>75%</th>\n",
       "      <td>564.921588</td>\n",
       "      <td>1000.637580</td>\n",
       "      <td>1000.645380</td>\n",
       "    </tr>\n",
       "    <tr>\n",
       "      <th>max</th>\n",
       "      <td>774.407854</td>\n",
       "      <td>1003.207934</td>\n",
       "      <td>1002.666308</td>\n",
       "    </tr>\n",
       "  </tbody>\n",
       "</table>\n",
       "</div>"
      ],
      "text/plain": [
       "             price     feature1     feature2\n",
       "count  1000.000000  1000.000000  1000.000000\n",
       "mean    498.673029  1000.014171   999.979847\n",
       "std      93.785431     0.974018     0.948330\n",
       "min     223.346793   997.058347   996.995651\n",
       "25%     433.025732   999.332068   999.316106\n",
       "50%     502.382117  1000.009915  1000.002243\n",
       "75%     564.921588  1000.637580  1000.645380\n",
       "max     774.407854  1003.207934  1002.666308"
      ]
     },
     "execution_count": 5,
     "metadata": {},
     "output_type": "execute_result"
    }
   ],
   "source": [
    "df.describe()"
   ]
  },
  {
   "cell_type": "markdown",
   "id": "22afca94",
   "metadata": {},
   "source": [
    "### Exploring the Data"
   ]
  },
  {
   "cell_type": "code",
   "execution_count": 6,
   "id": "dad1e38d",
   "metadata": {},
   "outputs": [],
   "source": [
    "import seaborn as sns"
   ]
  },
  {
   "cell_type": "code",
   "execution_count": 7,
   "id": "f3480454",
   "metadata": {},
   "outputs": [
    {
     "data": {
      "text/plain": [
       "<seaborn.axisgrid.PairGrid at 0x21b6dda0670>"
      ]
     },
     "execution_count": 7,
     "metadata": {},
     "output_type": "execute_result"
    },
    {
     "data": {
      "image/png": "[encoded data removed]",
      "text/plain": [
       "<Figure size 540x540 with 12 Axes>"
      ]
     },
     "metadata": {
      "needs_background": "light"
     },
     "output_type": "display_data"
    }
   ],
   "source": [
    "sns.pairplot(df)"
   ]
  },
  {
   "cell_type": "markdown",
   "id": "26212b0f",
   "metadata": {},
   "source": [
    "### Test Train Split"
   ]
  },
  {
   "cell_type": "code",
   "execution_count": 8,
   "id": "e7e1994b",
   "metadata": {},
   "outputs": [],
   "source": [
    "from sklearn.model_selection import train_test_split"
   ]
  },
  {
   "cell_type": "code",
   "execution_count": 9,
   "id": "b4ab4f8a",
   "metadata": {},
   "outputs": [],
   "source": [
    "X = df[['feature1', 'feature2']].values\n",
    "\n",
    "y = df['price'].values\n",
    "\n",
    "X_train, X_test, y_train, y_test = train_test_split(X, y, test_size=0.3, random_state=42)"
   ]
  },
  {
   "cell_type": "code",
   "execution_count": 63,
   "id": "28f029e0",
   "metadata": {},
   "outputs": [
    {
     "data": {
      "text/plain": [
       "(700, 2)"
      ]
     },
     "execution_count": 63,
     "metadata": {},
     "output_type": "execute_result"
    }
   ],
   "source": [
    "X_train.shape"
   ]
  },
  {
   "cell_type": "code",
   "execution_count": 64,
   "id": "0dbf1747",
   "metadata": {},
   "outputs": [
    {
     "data": {
      "text/plain": [
       "array([[0.74046017, 0.32583248],\n",
       "       [0.43166001, 0.2555088 ],\n",
       "       [0.18468554, 0.70500664],\n",
       "       ...,\n",
       "       [0.54913363, 0.79933822],\n",
       "       [0.2834197 , 0.38818708],\n",
       "       [0.56282703, 0.42371827]])"
      ]
     },
     "execution_count": 64,
     "metadata": {},
     "output_type": "execute_result"
    }
   ],
   "source": [
    "X_train"
   ]
  },
  {
   "cell_type": "code",
   "execution_count": 11,
   "id": "25e2b9d0",
   "metadata": {},
   "outputs": [
    {
     "data": {
      "text/plain": [
       "(300, 2)"
      ]
     },
     "execution_count": 11,
     "metadata": {},
     "output_type": "execute_result"
    }
   ],
   "source": [
    "X_test.shape"
   ]
  },
  {
   "cell_type": "code",
   "execution_count": 12,
   "id": "1f34b23e",
   "metadata": {},
   "outputs": [
    {
     "data": {
      "text/plain": [
       "(700,)"
      ]
     },
     "execution_count": 12,
     "metadata": {},
     "output_type": "execute_result"
    }
   ],
   "source": [
    "y_train.shape"
   ]
  },
  {
   "cell_type": "code",
   "execution_count": 13,
   "id": "0c2e946b",
   "metadata": {},
   "outputs": [
    {
     "data": {
      "text/plain": [
       "(300,)"
      ]
     },
     "execution_count": 13,
     "metadata": {},
     "output_type": "execute_result"
    }
   ],
   "source": [
    "y_test.shape"
   ]
  },
  {
   "cell_type": "code",
   "execution_count": 65,
   "id": "f1695fa4",
   "metadata": {},
   "outputs": [
    {
     "data": {
      "text/plain": [
       "array([402.29631873, 624.15619847, 582.4550663 , 578.58860646,\n",
       "       371.22410361, 584.38110772, 514.40564086, 464.11587006,\n",
       "       551.65009963, 451.8041724 , 613.95995262, 547.73198239,\n",
       "       428.31614877, 413.84178036, 654.83912076, 429.21452014,\n",
       "       512.04904895, 657.71868008, 674.31102047, 565.19184559,\n",
       "       338.0902386 , 450.9760715 , 375.13754715, 379.10982057,\n",
       "       562.05793604, 593.6677957 , 531.27754687, 423.65453319,\n",
       "       656.65474461, 412.90687671, 439.49653517, 488.78691774,\n",
       "       448.51914416, 685.21654079, 424.81078609, 418.45717839,\n",
       "       507.44318662, 550.14246248, 503.21614081, 397.88209319,\n",
       "       621.11885596, 411.57560703, 609.3840753 , 449.02606966,\n",
       "       503.51419982, 578.32901814, 664.50877632, 498.6284209 ,\n",
       "       316.9505926 , 478.35823792, 514.89474416, 374.19760282,\n",
       "       531.66193891, 405.40016562, 637.30962074, 482.55641188,\n",
       "       624.99250404, 624.24709206, 455.13953399, 484.46159148,\n",
       "       492.93591939, 477.73749721, 689.1734889 , 397.62059618,\n",
       "       698.41041396, 593.47480723, 581.54252662, 531.48237221,\n",
       "       477.4305163 , 521.79699247, 357.34223391, 527.88077226,\n",
       "       569.87336031, 523.15977914, 453.45829752, 530.13508628,\n",
       "       497.72274826, 444.67970846, 549.29054549, 633.45125327,\n",
       "       465.99980649, 567.30862153, 697.70715802, 454.32901321,\n",
       "       713.46667346, 475.17585767, 403.31557562, 592.7579165 ,\n",
       "       431.47987323, 487.18793877, 612.7537015 , 438.97699136,\n",
       "       456.89995237, 438.26540597, 501.81396346, 610.29650189,\n",
       "       323.74660823, 441.95036691, 537.6067329 , 511.89276394,\n",
       "       610.09170764, 524.32438029, 342.05906592, 578.22402034,\n",
       "       435.26155328, 564.11153791, 506.33929863, 390.86267833,\n",
       "       567.88189283, 453.9716661 , 453.49681218, 649.44006825,\n",
       "       515.32519058, 554.7626666 , 411.63794464, 477.80625993,\n",
       "       580.88060484, 667.70856487, 699.73384102, 656.97308566,\n",
       "       558.87741587, 502.8467149 , 387.64605588, 275.33337527,\n",
       "       469.07283863, 618.93363459, 375.31180205, 516.28603756,\n",
       "       502.90170221, 492.87327105, 475.94699622, 420.76621323,\n",
       "       487.7379163 , 476.52607826, 594.68664574, 574.51560687,\n",
       "       415.44298463, 625.07938608, 469.8028243 , 559.04378534,\n",
       "       404.35303251, 532.62879772, 571.70626262, 357.29591446,\n",
       "       560.67805186, 603.55869587, 381.85298995, 551.56006043,\n",
       "       564.67207171, 451.89764782, 637.85870827, 377.57042607,\n",
       "       480.87733296, 526.44751951, 380.47707861, 460.1838563 ,\n",
       "       435.09849106, 498.19000033, 355.79535223, 403.06256371,\n",
       "       604.57261409, 512.37078567, 467.66852221, 489.12458007,\n",
       "       530.00104432, 343.73541799, 511.36670783, 246.73972006,\n",
       "       504.43137263, 537.92888483, 485.50390003, 477.32136011,\n",
       "       390.2092368 , 421.05894642, 549.84762007, 479.56906767,\n",
       "       570.6460653 , 484.01952653, 606.29736199, 547.71292837,\n",
       "       547.07286694, 499.21235117, 642.3708192 , 556.83209711,\n",
       "       579.43065472, 451.79140134, 411.18423872, 432.82161991,\n",
       "       560.3817655 , 611.84754884, 433.42313493, 493.56964948,\n",
       "       579.55848998, 524.47348399, 361.42640522, 645.7084402 ,\n",
       "       522.35888373, 338.13384172, 497.46472684, 408.12200074,\n",
       "       610.58016503, 351.42908062, 524.96702947, 396.04998476,\n",
       "       258.64403747, 516.98581378, 337.95129476, 367.16096642,\n",
       "       576.8926402 , 424.72778986, 547.27579153, 518.00709658,\n",
       "       503.05044876, 331.12168828, 406.28845394, 599.99118092,\n",
       "       622.86551828, 599.92382612, 559.96108847, 470.9635849 ,\n",
       "       466.00440866, 503.27065876, 447.05319043, 514.88174058,\n",
       "       501.88831717, 410.29716167, 603.88757737, 257.71199724,\n",
       "       627.64016416, 593.23051938, 325.79480263, 481.86280607,\n",
       "       595.85363797, 375.62302356, 448.42981468, 327.56004052,\n",
       "       526.67361757, 413.87226234, 556.61215428, 646.8239136 ,\n",
       "       540.38221981, 496.89047668, 633.4727288 , 528.44015453,\n",
       "       528.12861343, 515.77844597, 462.88163084, 507.43439141,\n",
       "       467.46059552, 595.96581968, 462.00480189, 434.27528283,\n",
       "       545.58520276, 484.56010504, 679.89502292, 367.7919044 ,\n",
       "       553.90462877, 577.31665049, 425.48260511, 542.9836716 ,\n",
       "       581.24757434, 586.55980649, 722.26394433, 439.09025956,\n",
       "       400.63495186, 320.22783441, 442.93357949, 392.70436827,\n",
       "       548.61436053, 519.32640956, 564.36822362, 444.9447339 ,\n",
       "       529.71971585, 375.95938044, 505.74726413, 633.35029248,\n",
       "       491.55128715, 568.60477798, 468.35698045, 273.43263798,\n",
       "       512.58377753, 618.12341696, 354.92884232, 448.63240577,\n",
       "       504.69389644, 543.3237843 , 612.47025609, 383.93441552,\n",
       "       449.458484  , 478.04811801, 594.84047708, 491.03773416,\n",
       "       315.51892903, 560.93779062, 443.39703561, 525.70465661,\n",
       "       502.90947332, 612.72791033, 417.56972453, 410.53824963])"
      ]
     },
     "execution_count": 65,
     "metadata": {},
     "output_type": "execute_result"
    }
   ],
   "source": [
    "y_test"
   ]
  },
  {
   "cell_type": "markdown",
   "id": "a22c16e5",
   "metadata": {},
   "source": [
    "### Scaling the Data"
   ]
  },
  {
   "cell_type": "code",
   "execution_count": 14,
   "id": "695d5ef4",
   "metadata": {},
   "outputs": [],
   "source": [
    "from sklearn.preprocessing import MinMaxScaler"
   ]
  },
  {
   "cell_type": "code",
   "execution_count": 15,
   "id": "d023cdb3",
   "metadata": {},
   "outputs": [],
   "source": [
    "scaler = MinMaxScaler()"
   ]
  },
  {
   "cell_type": "code",
   "execution_count": 16,
   "id": "33bef90e",
   "metadata": {},
   "outputs": [
    {
     "data": {
      "text/plain": [
       "MinMaxScaler()"
      ]
     },
     "execution_count": 16,
     "metadata": {},
     "output_type": "execute_result"
    }
   ],
   "source": [
    "scaler.fit(X_train)"
   ]
  },
  {
   "cell_type": "code",
   "execution_count": 17,
   "id": "0c5c8a57",
   "metadata": {},
   "outputs": [],
   "source": [
    "X_train = scaler.transform(X_train)\n",
    "X_test = scaler.transform(X_test)"
   ]
  },
  {
   "cell_type": "code",
   "execution_count": 56,
   "id": "21274398",
   "metadata": {},
   "outputs": [
    {
     "data": {
      "text/plain": [
       "700"
      ]
     },
     "execution_count": 56,
     "metadata": {},
     "output_type": "execute_result"
    }
   ],
   "source": [
    "len(X_train)"
   ]
  },
  {
   "cell_type": "code",
   "execution_count": 19,
   "id": "4ce7b82f",
   "metadata": {},
   "outputs": [
    {
     "data": {
      "text/plain": [
       "array([[0.39533339, 0.38540671],\n",
       "       [0.57300502, 0.74070924],\n",
       "       [0.61294076, 0.65734264],\n",
       "       [0.38169528, 0.73076311],\n",
       "       [0.07776591, 0.46323644]])"
      ]
     },
     "execution_count": 19,
     "metadata": {},
     "output_type": "execute_result"
    }
   ],
   "source": [
    "X_test[:5]"
   ]
  },
  {
   "cell_type": "markdown",
   "id": "986760ed",
   "metadata": {},
   "source": [
    "# Tensorflow 2.0 Syntax"
   ]
  },
  {
   "cell_type": "markdown",
   "id": "334cd1ee",
   "metadata": {},
   "source": [
    "### Import options"
   ]
  },
  {
   "cell_type": "markdown",
   "id": "05f70ead",
   "metadata": {},
   "source": [
    "There are many ways to import tensorflow based on preference, but we will follow the official documentation."
   ]
  },
  {
   "cell_type": "code",
   "execution_count": 25,
   "id": "37f118bb",
   "metadata": {},
   "outputs": [],
   "source": [
    "import tensorflow as tf"
   ]
  },
  {
   "cell_type": "code",
   "execution_count": 26,
   "id": "7bffc804",
   "metadata": {},
   "outputs": [],
   "source": [
    "from tensorflow.keras.models import Sequential"
   ]
  },
  {
   "cell_type": "markdown",
   "id": "be4838ba",
   "metadata": {},
   "source": [
    "### Creating a Model"
   ]
  },
  {
   "cell_type": "code",
   "execution_count": 27,
   "id": "37fad39f",
   "metadata": {},
   "outputs": [],
   "source": [
    "from tensorflow.keras.layers import Dense, Activation"
   ]
  },
  {
   "cell_type": "markdown",
   "id": "46af6e56",
   "metadata": {},
   "source": [
    "Creating layers as a list"
   ]
  },
  {
   "cell_type": "code",
   "execution_count": 29,
   "id": "bbf879ff",
   "metadata": {},
   "outputs": [],
   "source": [
    "model = Sequential([\n",
    "    Dense(units=4),\n",
    "    Dense(units=4),\n",
    "    Dense(units=4)\n",
    "])"
   ]
  },
  {
   "cell_type": "markdown",
   "id": "80e3780e",
   "metadata": {},
   "source": [
    "Adding layers one by one"
   ]
  },
  {
   "cell_type": "code",
   "execution_count": 30,
   "id": "799ad691",
   "metadata": {},
   "outputs": [],
   "source": [
    "model = Sequential()\n",
    "\n",
    "model.add(Dense(units=4))\n",
    "model.add(Dense(units=4))\n",
    "model.add(Dense(units=4))"
   ]
  },
  {
   "cell_type": "markdown",
   "id": "b5fcbfeb",
   "metadata": {},
   "source": [
    "Creating a model and compiling"
   ]
  },
  {
   "cell_type": "code",
   "execution_count": 67,
   "id": "f114e911",
   "metadata": {},
   "outputs": [],
   "source": [
    "model = Sequential()\n",
    "\n",
    "model.add(Dense(units=4, activation='relu'))\n",
    "model.add(Dense(units=4, activation='relu'))\n",
    "model.add(Dense(units=4, activation='relu'))\n",
    "\n",
    "# Final output node\n",
    "model.add(Dense(units=1))\n",
    "\n",
    "model.compile(optimizer='rmsprop',loss='mse')"
   ]
  },
  {
   "cell_type": "markdown",
   "id": "1c8ceeab",
   "metadata": {},
   "source": [
    "## Training"
   ]
  },
  {
   "cell_type": "code",
   "execution_count": 68,
   "id": "6fd26a4b",
   "metadata": {},
   "outputs": [
    {
     "name": "stdout",
     "output_type": "stream",
     "text": [
      "Epoch 1/250\n",
      "22/22 [==============================] - 1s 1ms/step - loss: 257123.8906\n",
      "Epoch 2/250\n",
      "22/22 [==============================] - 0s 2ms/step - loss: 256547.9844\n",
      "Epoch 3/250\n",
      "22/22 [==============================] - 0s 2ms/step - loss: 255994.8125\n",
      "Epoch 4/250\n",
      "22/22 [==============================] - 0s 2ms/step - loss: 255411.0156\n",
      "Epoch 5/250\n",
      "22/22 [==============================] - 0s 2ms/step - loss: 254818.5625\n",
      "Epoch 6/250\n",
      "22/22 [==============================] - 0s 2ms/step - loss: 254204.0938\n",
      "Epoch 7/250\n",
      "22/22 [==============================] - 0s 2ms/step - loss: 253543.2031\n",
      "Epoch 8/250\n",
      "22/22 [==============================] - 0s 2ms/step - loss: 252820.2344\n",
      "Epoch 9/250\n",
      "22/22 [==============================] - 0s 2ms/step - loss: 252031.2656\n",
      "Epoch 10/250\n",
      "22/22 [==============================] - 0s 2ms/step - loss: 251179.8125\n",
      "Epoch 11/250\n",
      "22/22 [==============================] - 0s 2ms/step - loss: 250263.3125\n",
      "Epoch 12/250\n",
      "22/22 [==============================] - 0s 2ms/step - loss: 249314.1875\n",
      "Epoch 13/250\n",
      "22/22 [==============================] - 0s 2ms/step - loss: 248329.2188\n",
      "Epoch 14/250\n",
      "22/22 [==============================] - 0s 2ms/step - loss: 247287.3438\n",
      "Epoch 15/250\n",
      "22/22 [==============================] - 0s 2ms/step - loss: 246171.0156\n",
      "Epoch 16/250\n",
      "22/22 [==============================] - 0s 2ms/step - loss: 244966.5781\n",
      "Epoch 17/250\n",
      "22/22 [==============================] - 0s 2ms/step - loss: 243665.0000\n",
      "Epoch 18/250\n",
      "22/22 [==============================] - 0s 1ms/step - loss: 242269.2812\n",
      "Epoch 19/250\n",
      "22/22 [==============================] - 0s 2ms/step - loss: 240770.6250\n",
      "Epoch 20/250\n",
      "22/22 [==============================] - 0s 2ms/step - loss: 239178.0625\n",
      "Epoch 21/250\n",
      "22/22 [==============================] - 0s 2ms/step - loss: 237486.8594\n",
      "Epoch 22/250\n",
      "22/22 [==============================] - 0s 2ms/step - loss: 235672.4375\n",
      "Epoch 23/250\n",
      "22/22 [==============================] - 0s 2ms/step - loss: 233754.0625\n",
      "Epoch 24/250\n",
      "22/22 [==============================] - 0s 2ms/step - loss: 231708.1875\n",
      "Epoch 25/250\n",
      "22/22 [==============================] - 0s 2ms/step - loss: 229544.4844\n",
      "Epoch 26/250\n",
      "22/22 [==============================] - 0s 1ms/step - loss: 227262.4844\n",
      "Epoch 27/250\n",
      "22/22 [==============================] - 0s 2ms/step - loss: 224853.7812\n",
      "Epoch 28/250\n",
      "22/22 [==============================] - 0s 2ms/step - loss: 222305.7656\n",
      "Epoch 29/250\n",
      "22/22 [==============================] - 0s 2ms/step - loss: 219634.6719\n",
      "Epoch 30/250\n",
      "22/22 [==============================] - 0s 2ms/step - loss: 216821.3281\n",
      "Epoch 31/250\n",
      "22/22 [==============================] - 0s 2ms/step - loss: 213881.8906\n",
      "Epoch 32/250\n",
      "22/22 [==============================] - 0s 2ms/step - loss: 210801.9219\n",
      "Epoch 33/250\n",
      "22/22 [==============================] - 0s 2ms/step - loss: 207580.3125\n",
      "Epoch 34/250\n",
      "22/22 [==============================] - 0s 2ms/step - loss: 204201.3281\n",
      "Epoch 35/250\n",
      "22/22 [==============================] - 0s 1ms/step - loss: 200664.7344\n",
      "Epoch 36/250\n",
      "22/22 [==============================] - 0s 2ms/step - loss: 197002.1719\n",
      "Epoch 37/250\n",
      "22/22 [==============================] - 0s 2ms/step - loss: 193196.7500\n",
      "Epoch 38/250\n",
      "22/22 [==============================] - 0s 2ms/step - loss: 189231.7656\n",
      "Epoch 39/250\n",
      "22/22 [==============================] - 0s 2ms/step - loss: 185121.7031\n",
      "Epoch 40/250\n",
      "22/22 [==============================] - 0s 2ms/step - loss: 180879.0781\n",
      "Epoch 41/250\n",
      "22/22 [==============================] - 0s 2ms/step - loss: 176479.5781\n",
      "Epoch 42/250\n",
      "22/22 [==============================] - 0s 2ms/step - loss: 171954.0938\n",
      "Epoch 43/250\n",
      "22/22 [==============================] - 0s 2ms/step - loss: 167274.4062\n",
      "Epoch 44/250\n",
      "22/22 [==============================] - 0s 2ms/step - loss: 162455.7500\n",
      "Epoch 45/250\n",
      "22/22 [==============================] - 0s 2ms/step - loss: 157475.2969\n",
      "Epoch 46/250\n",
      "22/22 [==============================] - 0s 2ms/step - loss: 152397.5312\n",
      "Epoch 47/250\n",
      "22/22 [==============================] - 0s 2ms/step - loss: 147180.2656\n",
      "Epoch 48/250\n",
      "22/22 [==============================] - 0s 2ms/step - loss: 141864.0312\n",
      "Epoch 49/250\n",
      "22/22 [==============================] - 0s 2ms/step - loss: 136413.2500\n",
      "Epoch 50/250\n",
      "22/22 [==============================] - 0s 2ms/step - loss: 130867.9688\n",
      "Epoch 51/250\n",
      "22/22 [==============================] - 0s 1ms/step - loss: 125241.2031\n",
      "Epoch 52/250\n",
      "22/22 [==============================] - 0s 2ms/step - loss: 119507.6328\n",
      "Epoch 53/250\n",
      "22/22 [==============================] - 0s 2ms/step - loss: 113712.4219\n",
      "Epoch 54/250\n",
      "22/22 [==============================] - 0s 2ms/step - loss: 107863.5547\n",
      "Epoch 55/250\n",
      "22/22 [==============================] - 0s 2ms/step - loss: 101946.7656\n",
      "Epoch 56/250\n",
      "22/22 [==============================] - 0s 2ms/step - loss: 96013.1328\n",
      "Epoch 57/250\n",
      "22/22 [==============================] - 0s 1ms/step - loss: 90003.2734\n",
      "Epoch 58/250\n",
      "22/22 [==============================] - 0s 1ms/step - loss: 84017.0938\n",
      "Epoch 59/250\n",
      "22/22 [==============================] - 0s 2ms/step - loss: 78035.0938\n",
      "Epoch 60/250\n",
      "22/22 [==============================] - 0s 1ms/step - loss: 72107.5312\n",
      "Epoch 61/250\n",
      "22/22 [==============================] - 0s 1ms/step - loss: 66242.5859\n",
      "Epoch 62/250\n",
      "22/22 [==============================] - 0s 2ms/step - loss: 60426.2383\n",
      "Epoch 63/250\n",
      "22/22 [==============================] - 0s 2ms/step - loss: 54701.3086\n",
      "Epoch 64/250\n",
      "22/22 [==============================] - 0s 2ms/step - loss: 49114.0898\n",
      "Epoch 65/250\n",
      "22/22 [==============================] - 0s 2ms/step - loss: 43665.5938\n",
      "Epoch 66/250\n",
      "22/22 [==============================] - 0s 2ms/step - loss: 38438.3789\n",
      "Epoch 67/250\n",
      "22/22 [==============================] - 0s 2ms/step - loss: 33396.4414\n",
      "Epoch 68/250\n",
      "22/22 [==============================] - 0s 2ms/step - loss: 28621.4805\n",
      "Epoch 69/250\n",
      "22/22 [==============================] - 0s 2ms/step - loss: 24086.1719\n",
      "Epoch 70/250\n",
      "22/22 [==============================] - 0s 2ms/step - loss: 19851.5664\n",
      "Epoch 71/250\n",
      "22/22 [==============================] - 0s 2ms/step - loss: 16043.3184\n",
      "Epoch 72/250\n",
      "22/22 [==============================] - 0s 2ms/step - loss: 12587.0283\n",
      "Epoch 73/250\n",
      "22/22 [==============================] - 0s 2ms/step - loss: 9559.1904\n",
      "Epoch 74/250\n",
      "22/22 [==============================] - 0s 1ms/step - loss: 7001.4585\n",
      "Epoch 75/250\n",
      "22/22 [==============================] - 0s 1ms/step - loss: 4948.5903\n",
      "Epoch 76/250\n",
      "22/22 [==============================] - 0s 1ms/step - loss: 3423.7700\n",
      "Epoch 77/250\n",
      "22/22 [==============================] - 0s 2ms/step - loss: 2424.7429\n",
      "Epoch 78/250\n",
      "22/22 [==============================] - 0s 1ms/step - loss: 1916.4398\n",
      "Epoch 79/250\n",
      "22/22 [==============================] - 0s 2ms/step - loss: 1765.3141\n",
      "Epoch 80/250\n",
      "22/22 [==============================] - 0s 2ms/step - loss: 1722.2130\n",
      "Epoch 81/250\n",
      "22/22 [==============================] - 0s 2ms/step - loss: 1691.6937\n",
      "Epoch 82/250\n",
      "22/22 [==============================] - 0s 2ms/step - loss: 1662.5991\n",
      "Epoch 83/250\n",
      "22/22 [==============================] - 0s 1ms/step - loss: 1637.6853\n",
      "Epoch 84/250\n",
      "22/22 [==============================] - 0s 1ms/step - loss: 1608.0842\n",
      "Epoch 85/250\n",
      "22/22 [==============================] - 0s 1ms/step - loss: 1577.7473\n",
      "Epoch 86/250\n",
      "22/22 [==============================] - 0s 1ms/step - loss: 1545.7412\n",
      "Epoch 87/250\n",
      "22/22 [==============================] - 0s 1ms/step - loss: 1516.7905\n",
      "Epoch 88/250\n",
      "22/22 [==============================] - 0s 1ms/step - loss: 1487.7234\n",
      "Epoch 89/250\n",
      "22/22 [==============================] - 0s 1ms/step - loss: 1459.5836\n",
      "Epoch 90/250\n",
      "22/22 [==============================] - 0s 1ms/step - loss: 1429.7990\n",
      "Epoch 91/250\n",
      "22/22 [==============================] - 0s 1ms/step - loss: 1405.6573\n",
      "Epoch 92/250\n",
      "22/22 [==============================] - 0s 2ms/step - loss: 1378.5624\n",
      "Epoch 93/250\n",
      "22/22 [==============================] - 0s 1ms/step - loss: 1350.8829\n",
      "Epoch 94/250\n",
      "22/22 [==============================] - 0s 2ms/step - loss: 1323.2799\n",
      "Epoch 95/250\n",
      "22/22 [==============================] - 0s 2ms/step - loss: 1292.1647\n",
      "Epoch 96/250\n",
      "22/22 [==============================] - 0s 2ms/step - loss: 1264.6729\n",
      "Epoch 97/250\n"
     ]
    },
    {
     "name": "stdout",
     "output_type": "stream",
     "text": [
      "22/22 [==============================] - 0s 1ms/step - loss: 1236.8696\n",
      "Epoch 98/250\n",
      "22/22 [==============================] - 0s 2ms/step - loss: 1210.1068\n",
      "Epoch 99/250\n",
      "22/22 [==============================] - 0s 2ms/step - loss: 1184.3379\n",
      "Epoch 100/250\n",
      "22/22 [==============================] - 0s 2ms/step - loss: 1164.2667\n",
      "Epoch 101/250\n",
      "22/22 [==============================] - 0s 1ms/step - loss: 1135.5933\n",
      "Epoch 102/250\n",
      "22/22 [==============================] - 0s 1ms/step - loss: 1107.6807\n",
      "Epoch 103/250\n",
      "22/22 [==============================] - 0s 1ms/step - loss: 1084.3519\n",
      "Epoch 104/250\n",
      "22/22 [==============================] - 0s 2ms/step - loss: 1058.0182\n",
      "Epoch 105/250\n",
      "22/22 [==============================] - 0s 1ms/step - loss: 1033.6063\n",
      "Epoch 106/250\n",
      "22/22 [==============================] - 0s 2ms/step - loss: 1010.1016\n",
      "Epoch 107/250\n",
      "22/22 [==============================] - 0s 2ms/step - loss: 984.8152\n",
      "Epoch 108/250\n",
      "22/22 [==============================] - 0s 1ms/step - loss: 961.8804\n",
      "Epoch 109/250\n",
      "22/22 [==============================] - 0s 1ms/step - loss: 936.4678\n",
      "Epoch 110/250\n",
      "22/22 [==============================] - 0s 1ms/step - loss: 910.7897\n",
      "Epoch 111/250\n",
      "22/22 [==============================] - 0s 1ms/step - loss: 884.0762\n",
      "Epoch 112/250\n",
      "22/22 [==============================] - 0s 1ms/step - loss: 858.3564\n",
      "Epoch 113/250\n",
      "22/22 [==============================] - 0s 2ms/step - loss: 831.7587\n",
      "Epoch 114/250\n",
      "22/22 [==============================] - 0s 1ms/step - loss: 806.7780\n",
      "Epoch 115/250\n",
      "22/22 [==============================] - 0s 1ms/step - loss: 781.3192\n",
      "Epoch 116/250\n",
      "22/22 [==============================] - 0s 2ms/step - loss: 756.2352\n",
      "Epoch 117/250\n",
      "22/22 [==============================] - 0s 1ms/step - loss: 735.2173\n",
      "Epoch 118/250\n",
      "22/22 [==============================] - 0s 2ms/step - loss: 713.9913\n",
      "Epoch 119/250\n",
      "22/22 [==============================] - 0s 2ms/step - loss: 691.2266\n",
      "Epoch 120/250\n",
      "22/22 [==============================] - 0s 1ms/step - loss: 667.3801\n",
      "Epoch 121/250\n",
      "22/22 [==============================] - 0s 1ms/step - loss: 644.2584\n",
      "Epoch 122/250\n",
      "22/22 [==============================] - 0s 1ms/step - loss: 622.4329\n",
      "Epoch 123/250\n",
      "22/22 [==============================] - 0s 1ms/step - loss: 600.2680\n",
      "Epoch 124/250\n",
      "22/22 [==============================] - 0s 1ms/step - loss: 580.9832\n",
      "Epoch 125/250\n",
      "22/22 [==============================] - 0s 2ms/step - loss: 558.5101\n",
      "Epoch 126/250\n",
      "22/22 [==============================] - 0s 2ms/step - loss: 537.8765\n",
      "Epoch 127/250\n",
      "22/22 [==============================] - 0s 1ms/step - loss: 519.1840\n",
      "Epoch 128/250\n",
      "22/22 [==============================] - 0s 2ms/step - loss: 498.6576\n",
      "Epoch 129/250\n",
      "22/22 [==============================] - 0s 1ms/step - loss: 483.4746\n",
      "Epoch 130/250\n",
      "22/22 [==============================] - 0s 1ms/step - loss: 462.9627\n",
      "Epoch 131/250\n",
      "22/22 [==============================] - 0s 1ms/step - loss: 446.3114\n",
      "Epoch 132/250\n",
      "22/22 [==============================] - 0s 2ms/step - loss: 428.4005\n",
      "Epoch 133/250\n",
      "22/22 [==============================] - 0s 2ms/step - loss: 409.0752\n",
      "Epoch 134/250\n",
      "22/22 [==============================] - 0s 2ms/step - loss: 390.7298\n",
      "Epoch 135/250\n",
      "22/22 [==============================] - 0s 2ms/step - loss: 371.5795\n",
      "Epoch 136/250\n",
      "22/22 [==============================] - 0s 1ms/step - loss: 354.4521\n",
      "Epoch 137/250\n",
      "22/22 [==============================] - 0s 1ms/step - loss: 333.5617\n",
      "Epoch 138/250\n",
      "22/22 [==============================] - 0s 1ms/step - loss: 315.5145\n",
      "Epoch 139/250\n",
      "22/22 [==============================] - 0s 1ms/step - loss: 299.7137\n",
      "Epoch 140/250\n",
      "22/22 [==============================] - 0s 1ms/step - loss: 285.3719\n",
      "Epoch 141/250\n",
      "22/22 [==============================] - 0s 1ms/step - loss: 269.6932\n",
      "Epoch 142/250\n",
      "22/22 [==============================] - 0s 1ms/step - loss: 254.8140\n",
      "Epoch 143/250\n",
      "22/22 [==============================] - 0s 1ms/step - loss: 238.7876\n",
      "Epoch 144/250\n",
      "22/22 [==============================] - 0s 1ms/step - loss: 225.6817\n",
      "Epoch 145/250\n",
      "22/22 [==============================] - 0s 1ms/step - loss: 212.1319\n",
      "Epoch 146/250\n",
      "22/22 [==============================] - 0s 2ms/step - loss: 199.8294\n",
      "Epoch 147/250\n",
      "22/22 [==============================] - 0s 1ms/step - loss: 187.4651\n",
      "Epoch 148/250\n",
      "22/22 [==============================] - 0s 2ms/step - loss: 175.5824\n",
      "Epoch 149/250\n",
      "22/22 [==============================] - 0s 2ms/step - loss: 165.1059\n",
      "Epoch 150/250\n",
      "22/22 [==============================] - 0s 2ms/step - loss: 152.1378\n",
      "Epoch 151/250\n",
      "22/22 [==============================] - 0s 2ms/step - loss: 141.8314\n",
      "Epoch 152/250\n",
      "22/22 [==============================] - 0s 2ms/step - loss: 132.6613\n",
      "Epoch 153/250\n",
      "22/22 [==============================] - 0s 1ms/step - loss: 122.7871\n",
      "Epoch 154/250\n",
      "22/22 [==============================] - 0s 1ms/step - loss: 114.3857\n",
      "Epoch 155/250\n",
      "22/22 [==============================] - 0s 1ms/step - loss: 105.6389\n",
      "Epoch 156/250\n",
      "22/22 [==============================] - 0s 1ms/step - loss: 97.0519\n",
      "Epoch 157/250\n",
      "22/22 [==============================] - 0s 2ms/step - loss: 88.7108\n",
      "Epoch 158/250\n",
      "22/22 [==============================] - 0s 1ms/step - loss: 81.3372\n",
      "Epoch 159/250\n",
      "22/22 [==============================] - 0s 1ms/step - loss: 75.7900\n",
      "Epoch 160/250\n",
      "22/22 [==============================] - 0s 1ms/step - loss: 69.2160\n",
      "Epoch 161/250\n",
      "22/22 [==============================] - 0s 1ms/step - loss: 62.8026\n",
      "Epoch 162/250\n",
      "22/22 [==============================] - 0s 2ms/step - loss: 57.7586\n",
      "Epoch 163/250\n",
      "22/22 [==============================] - 0s 2ms/step - loss: 53.6472\n",
      "Epoch 164/250\n",
      "22/22 [==============================] - 0s 3ms/step - loss: 49.2131\n",
      "Epoch 165/250\n",
      "22/22 [==============================] - 0s 2ms/step - loss: 45.7602\n",
      "Epoch 166/250\n",
      "22/22 [==============================] - 0s 1ms/step - loss: 42.2092\n",
      "Epoch 167/250\n",
      "22/22 [==============================] - 0s 1ms/step - loss: 39.7420\n",
      "Epoch 168/250\n",
      "22/22 [==============================] - 0s 1ms/step - loss: 37.2670\n",
      "Epoch 169/250\n",
      "22/22 [==============================] - 0s 1ms/step - loss: 35.2944\n",
      "Epoch 170/250\n",
      "22/22 [==============================] - 0s 2ms/step - loss: 33.2303\n",
      "Epoch 171/250\n",
      "22/22 [==============================] - 0s 1ms/step - loss: 31.6885\n",
      "Epoch 172/250\n",
      "22/22 [==============================] - 0s 1ms/step - loss: 30.3669\n",
      "Epoch 173/250\n",
      "22/22 [==============================] - 0s 1ms/step - loss: 28.8558\n",
      "Epoch 174/250\n",
      "22/22 [==============================] - 0s 1ms/step - loss: 27.7143\n",
      "Epoch 175/250\n",
      "22/22 [==============================] - 0s 1ms/step - loss: 27.7238\n",
      "Epoch 176/250\n",
      "22/22 [==============================] - 0s 1ms/step - loss: 26.7308\n",
      "Epoch 177/250\n",
      "22/22 [==============================] - 0s 1ms/step - loss: 26.3319\n",
      "Epoch 178/250\n",
      "22/22 [==============================] - 0s 2ms/step - loss: 25.8761\n",
      "Epoch 179/250\n",
      "22/22 [==============================] - 0s 2ms/step - loss: 25.6937\n",
      "Epoch 180/250\n",
      "22/22 [==============================] - 0s 2ms/step - loss: 25.7407\n",
      "Epoch 181/250\n",
      "22/22 [==============================] - 0s 2ms/step - loss: 24.9194\n",
      "Epoch 182/250\n",
      "22/22 [==============================] - 0s 1ms/step - loss: 25.1489\n",
      "Epoch 183/250\n",
      "22/22 [==============================] - 0s 1ms/step - loss: 25.0066\n",
      "Epoch 184/250\n",
      "22/22 [==============================] - 0s 1ms/step - loss: 24.4232\n",
      "Epoch 185/250\n",
      "22/22 [==============================] - 0s 2ms/step - loss: 24.4988\n",
      "Epoch 186/250\n",
      "22/22 [==============================] - 0s 1ms/step - loss: 24.3923\n",
      "Epoch 187/250\n",
      "22/22 [==============================] - 0s 1ms/step - loss: 24.6238\n",
      "Epoch 188/250\n",
      "22/22 [==============================] - 0s 1ms/step - loss: 24.5397\n",
      "Epoch 189/250\n",
      "22/22 [==============================] - 0s 1ms/step - loss: 24.4391\n",
      "Epoch 190/250\n",
      "22/22 [==============================] - 0s 2ms/step - loss: 24.5251\n",
      "Epoch 191/250\n",
      "22/22 [==============================] - 0s 1ms/step - loss: 24.2348\n",
      "Epoch 192/250\n",
      "22/22 [==============================] - 0s 1ms/step - loss: 24.9583\n",
      "Epoch 193/250\n",
      "22/22 [==============================] - 0s 2ms/step - loss: 24.3243\n",
      "Epoch 194/250\n",
      "22/22 [==============================] - 0s 2ms/step - loss: 23.9489\n"
     ]
    },
    {
     "name": "stdout",
     "output_type": "stream",
     "text": [
      "Epoch 195/250\n",
      "22/22 [==============================] - 0s 2ms/step - loss: 24.2767\n",
      "Epoch 196/250\n",
      "22/22 [==============================] - 0s 2ms/step - loss: 24.0139\n",
      "Epoch 197/250\n",
      "22/22 [==============================] - 0s 2ms/step - loss: 24.2682\n",
      "Epoch 198/250\n",
      "22/22 [==============================] - 0s 1ms/step - loss: 24.2170\n",
      "Epoch 199/250\n",
      "22/22 [==============================] - 0s 1ms/step - loss: 24.2734\n",
      "Epoch 200/250\n",
      "22/22 [==============================] - 0s 1ms/step - loss: 24.1726\n",
      "Epoch 201/250\n",
      "22/22 [==============================] - 0s 1ms/step - loss: 24.1476\n",
      "Epoch 202/250\n",
      "22/22 [==============================] - 0s 1ms/step - loss: 24.2605\n",
      "Epoch 203/250\n",
      "22/22 [==============================] - 0s 1ms/step - loss: 24.0765\n",
      "Epoch 204/250\n",
      "22/22 [==============================] - 0s 1ms/step - loss: 24.6192\n",
      "Epoch 205/250\n",
      "22/22 [==============================] - 0s 1ms/step - loss: 24.2845\n",
      "Epoch 206/250\n",
      "22/22 [==============================] - 0s 1ms/step - loss: 24.2982\n",
      "Epoch 207/250\n",
      "22/22 [==============================] - 0s 2ms/step - loss: 24.5342\n",
      "Epoch 208/250\n",
      "22/22 [==============================] - 0s 2ms/step - loss: 23.9097\n",
      "Epoch 209/250\n",
      "22/22 [==============================] - 0s 1ms/step - loss: 24.4011\n",
      "Epoch 210/250\n",
      "22/22 [==============================] - 0s 1ms/step - loss: 24.1800\n",
      "Epoch 211/250\n",
      "22/22 [==============================] - 0s 2ms/step - loss: 24.2347\n",
      "Epoch 212/250\n",
      "22/22 [==============================] - 0s 2ms/step - loss: 23.9856\n",
      "Epoch 213/250\n",
      "22/22 [==============================] - 0s 2ms/step - loss: 24.4737\n",
      "Epoch 214/250\n",
      "22/22 [==============================] - 0s 2ms/step - loss: 24.2851\n",
      "Epoch 215/250\n",
      "22/22 [==============================] - 0s 1ms/step - loss: 24.3524\n",
      "Epoch 216/250\n",
      "22/22 [==============================] - 0s 1ms/step - loss: 24.2367\n",
      "Epoch 217/250\n",
      "22/22 [==============================] - 0s 1ms/step - loss: 24.4447\n",
      "Epoch 218/250\n",
      "22/22 [==============================] - 0s 2ms/step - loss: 24.3839\n",
      "Epoch 219/250\n",
      "22/22 [==============================] - 0s 2ms/step - loss: 23.9682\n",
      "Epoch 220/250\n",
      "22/22 [==============================] - 0s 2ms/step - loss: 24.2566\n",
      "Epoch 221/250\n",
      "22/22 [==============================] - 0s 2ms/step - loss: 24.0470\n",
      "Epoch 222/250\n",
      "22/22 [==============================] - 0s 1ms/step - loss: 24.5159\n",
      "Epoch 223/250\n",
      "22/22 [==============================] - 0s 1ms/step - loss: 24.1368\n",
      "Epoch 224/250\n",
      "22/22 [==============================] - 0s 1ms/step - loss: 24.3254\n",
      "Epoch 225/250\n",
      "22/22 [==============================] - 0s 2ms/step - loss: 24.2345\n",
      "Epoch 226/250\n",
      "22/22 [==============================] - 0s 2ms/step - loss: 24.3448\n",
      "Epoch 227/250\n",
      "22/22 [==============================] - 0s 2ms/step - loss: 24.3830\n",
      "Epoch 228/250\n",
      "22/22 [==============================] - 0s 2ms/step - loss: 24.2331\n",
      "Epoch 229/250\n",
      "22/22 [==============================] - 0s 2ms/step - loss: 24.4033\n",
      "Epoch 230/250\n",
      "22/22 [==============================] - 0s 2ms/step - loss: 24.1122\n",
      "Epoch 231/250\n",
      "22/22 [==============================] - 0s 2ms/step - loss: 24.0950\n",
      "Epoch 232/250\n",
      "22/22 [==============================] - 0s 2ms/step - loss: 23.9590\n",
      "Epoch 233/250\n",
      "22/22 [==============================] - 0s 2ms/step - loss: 24.1865\n",
      "Epoch 234/250\n",
      "22/22 [==============================] - 0s 1ms/step - loss: 24.1973\n",
      "Epoch 235/250\n",
      "22/22 [==============================] - 0s 1ms/step - loss: 24.4611\n",
      "Epoch 236/250\n",
      "22/22 [==============================] - 0s 1ms/step - loss: 24.2138\n",
      "Epoch 237/250\n",
      "22/22 [==============================] - 0s 2ms/step - loss: 24.1070\n",
      "Epoch 238/250\n",
      "22/22 [==============================] - 0s 1ms/step - loss: 23.9483\n",
      "Epoch 239/250\n",
      "22/22 [==============================] - 0s 1ms/step - loss: 23.8746\n",
      "Epoch 240/250\n",
      "22/22 [==============================] - 0s 1ms/step - loss: 24.7397\n",
      "Epoch 241/250\n",
      "22/22 [==============================] - 0s 1ms/step - loss: 24.0935\n",
      "Epoch 242/250\n",
      "22/22 [==============================] - 0s 1ms/step - loss: 23.8765\n",
      "Epoch 243/250\n",
      "22/22 [==============================] - 0s 1ms/step - loss: 24.3800\n",
      "Epoch 244/250\n",
      "22/22 [==============================] - 0s 1ms/step - loss: 24.2116\n",
      "Epoch 245/250\n",
      "22/22 [==============================] - 0s 1ms/step - loss: 24.1752\n",
      "Epoch 246/250\n",
      "22/22 [==============================] - 0s 2ms/step - loss: 24.2970\n",
      "Epoch 247/250\n",
      "22/22 [==============================] - 0s 1ms/step - loss: 24.3340\n",
      "Epoch 248/250\n",
      "22/22 [==============================] - 0s 1ms/step - loss: 24.1586\n",
      "Epoch 249/250\n",
      "22/22 [==============================] - 0s 1ms/step - loss: 24.4274\n",
      "Epoch 250/250\n",
      "22/22 [==============================] - 0s 2ms/step - loss: 24.3459\n"
     ]
    },
    {
     "data": {
      "text/plain": [
       "<keras.callbacks.History at 0x21b7b27eca0>"
      ]
     },
     "execution_count": 68,
     "metadata": {},
     "output_type": "execute_result"
    }
   ],
   "source": [
    "model.fit(X_train, y_train, epochs=250)"
   ]
  },
  {
   "cell_type": "markdown",
   "id": "fd5e8eec",
   "metadata": {},
   "source": [
    "## Evaluation"
   ]
  },
  {
   "cell_type": "code",
   "execution_count": 69,
   "id": "5c51defc",
   "metadata": {},
   "outputs": [
    {
     "data": {
      "text/plain": [
       "{'loss': [257123.890625,\n",
       "  256547.984375,\n",
       "  255994.8125,\n",
       "  255411.015625,\n",
       "  254818.5625,\n",
       "  254204.09375,\n",
       "  253543.203125,\n",
       "  252820.234375,\n",
       "  252031.265625,\n",
       "  251179.8125,\n",
       "  250263.3125,\n",
       "  249314.1875,\n",
       "  248329.21875,\n",
       "  247287.34375,\n",
       "  246171.015625,\n",
       "  244966.578125,\n",
       "  243665.0,\n",
       "  242269.28125,\n",
       "  240770.625,\n",
       "  239178.0625,\n",
       "  237486.859375,\n",
       "  235672.4375,\n",
       "  233754.0625,\n",
       "  231708.1875,\n",
       "  229544.484375,\n",
       "  227262.484375,\n",
       "  224853.78125,\n",
       "  222305.765625,\n",
       "  219634.671875,\n",
       "  216821.328125,\n",
       "  213881.890625,\n",
       "  210801.921875,\n",
       "  207580.3125,\n",
       "  204201.328125,\n",
       "  200664.734375,\n",
       "  197002.171875,\n",
       "  193196.75,\n",
       "  189231.765625,\n",
       "  185121.703125,\n",
       "  180879.078125,\n",
       "  176479.578125,\n",
       "  171954.09375,\n",
       "  167274.40625,\n",
       "  162455.75,\n",
       "  157475.296875,\n",
       "  152397.53125,\n",
       "  147180.265625,\n",
       "  141864.03125,\n",
       "  136413.25,\n",
       "  130867.96875,\n",
       "  125241.203125,\n",
       "  119507.6328125,\n",
       "  113712.421875,\n",
       "  107863.5546875,\n",
       "  101946.765625,\n",
       "  96013.1328125,\n",
       "  90003.2734375,\n",
       "  84017.09375,\n",
       "  78035.09375,\n",
       "  72107.53125,\n",
       "  66242.5859375,\n",
       "  60426.23828125,\n",
       "  54701.30859375,\n",
       "  49114.08984375,\n",
       "  43665.59375,\n",
       "  38438.37890625,\n",
       "  33396.44140625,\n",
       "  28621.48046875,\n",
       "  24086.171875,\n",
       "  19851.56640625,\n",
       "  16043.318359375,\n",
       "  12587.0283203125,\n",
       "  9559.1904296875,\n",
       "  7001.45849609375,\n",
       "  4948.59033203125,\n",
       "  3423.77001953125,\n",
       "  2424.742919921875,\n",
       "  1916.4398193359375,\n",
       "  1765.3140869140625,\n",
       "  1722.2130126953125,\n",
       "  1691.6937255859375,\n",
       "  1662.59912109375,\n",
       "  1637.685302734375,\n",
       "  1608.084228515625,\n",
       "  1577.747314453125,\n",
       "  1545.7412109375,\n",
       "  1516.79052734375,\n",
       "  1487.723388671875,\n",
       "  1459.5836181640625,\n",
       "  1429.7989501953125,\n",
       "  1405.6573486328125,\n",
       "  1378.5623779296875,\n",
       "  1350.8829345703125,\n",
       "  1323.2799072265625,\n",
       "  1292.1646728515625,\n",
       "  1264.6728515625,\n",
       "  1236.86962890625,\n",
       "  1210.1068115234375,\n",
       "  1184.337890625,\n",
       "  1164.2667236328125,\n",
       "  1135.59326171875,\n",
       "  1107.6806640625,\n",
       "  1084.3519287109375,\n",
       "  1058.0181884765625,\n",
       "  1033.6063232421875,\n",
       "  1010.1016235351562,\n",
       "  984.815185546875,\n",
       "  961.8804321289062,\n",
       "  936.4677734375,\n",
       "  910.7896728515625,\n",
       "  884.0762329101562,\n",
       "  858.3564453125,\n",
       "  831.7586669921875,\n",
       "  806.7779541015625,\n",
       "  781.3192138671875,\n",
       "  756.2351684570312,\n",
       "  735.21728515625,\n",
       "  713.9913330078125,\n",
       "  691.2265625,\n",
       "  667.3800659179688,\n",
       "  644.2584228515625,\n",
       "  622.4329223632812,\n",
       "  600.2680053710938,\n",
       "  580.983154296875,\n",
       "  558.5100708007812,\n",
       "  537.8765258789062,\n",
       "  519.1840209960938,\n",
       "  498.6576232910156,\n",
       "  483.474609375,\n",
       "  462.9626770019531,\n",
       "  446.3114318847656,\n",
       "  428.40045166015625,\n",
       "  409.0752258300781,\n",
       "  390.7297668457031,\n",
       "  371.5794677734375,\n",
       "  354.4521484375,\n",
       "  333.5616760253906,\n",
       "  315.5144958496094,\n",
       "  299.7136535644531,\n",
       "  285.3719482421875,\n",
       "  269.69317626953125,\n",
       "  254.81399536132812,\n",
       "  238.78762817382812,\n",
       "  225.68174743652344,\n",
       "  212.1318817138672,\n",
       "  199.8293914794922,\n",
       "  187.465087890625,\n",
       "  175.58236694335938,\n",
       "  165.10594177246094,\n",
       "  152.13775634765625,\n",
       "  141.8314208984375,\n",
       "  132.6612548828125,\n",
       "  122.78711700439453,\n",
       "  114.38574981689453,\n",
       "  105.63893127441406,\n",
       "  97.05189514160156,\n",
       "  88.71077728271484,\n",
       "  81.33717346191406,\n",
       "  75.79003143310547,\n",
       "  69.21603393554688,\n",
       "  62.80256271362305,\n",
       "  57.758583068847656,\n",
       "  53.647159576416016,\n",
       "  49.21305847167969,\n",
       "  45.76023864746094,\n",
       "  42.20918273925781,\n",
       "  39.74201965332031,\n",
       "  37.26700210571289,\n",
       "  35.29444885253906,\n",
       "  33.23030471801758,\n",
       "  31.688499450683594,\n",
       "  30.366947174072266,\n",
       "  28.85581398010254,\n",
       "  27.714252471923828,\n",
       "  27.72378158569336,\n",
       "  26.73079490661621,\n",
       "  26.331945419311523,\n",
       "  25.87609100341797,\n",
       "  25.693714141845703,\n",
       "  25.740720748901367,\n",
       "  24.919384002685547,\n",
       "  25.148900985717773,\n",
       "  25.006582260131836,\n",
       "  24.423189163208008,\n",
       "  24.498817443847656,\n",
       "  24.39225196838379,\n",
       "  24.62375259399414,\n",
       "  24.53966522216797,\n",
       "  24.439071655273438,\n",
       "  24.525096893310547,\n",
       "  24.23484992980957,\n",
       "  24.958267211914062,\n",
       "  24.324331283569336,\n",
       "  23.948930740356445,\n",
       "  24.276681900024414,\n",
       "  24.01388931274414,\n",
       "  24.268169403076172,\n",
       "  24.217039108276367,\n",
       "  24.273359298706055,\n",
       "  24.17257308959961,\n",
       "  24.14757537841797,\n",
       "  24.260494232177734,\n",
       "  24.0765438079834,\n",
       "  24.619190216064453,\n",
       "  24.284542083740234,\n",
       "  24.29819679260254,\n",
       "  24.534181594848633,\n",
       "  23.909669876098633,\n",
       "  24.401058197021484,\n",
       "  24.180036544799805,\n",
       "  24.234668731689453,\n",
       "  23.985645294189453,\n",
       "  24.473739624023438,\n",
       "  24.285076141357422,\n",
       "  24.352375030517578,\n",
       "  24.236736297607422,\n",
       "  24.44474983215332,\n",
       "  24.383947372436523,\n",
       "  23.968202590942383,\n",
       "  24.256637573242188,\n",
       "  24.047033309936523,\n",
       "  24.51589584350586,\n",
       "  24.136802673339844,\n",
       "  24.325393676757812,\n",
       "  24.234519958496094,\n",
       "  24.344785690307617,\n",
       "  24.38296890258789,\n",
       "  24.233060836791992,\n",
       "  24.403284072875977,\n",
       "  24.112224578857422,\n",
       "  24.09500503540039,\n",
       "  23.958955764770508,\n",
       "  24.186546325683594,\n",
       "  24.197267532348633,\n",
       "  24.461130142211914,\n",
       "  24.213783264160156,\n",
       "  24.10704803466797,\n",
       "  23.94829750061035,\n",
       "  23.874570846557617,\n",
       "  24.739721298217773,\n",
       "  24.09351348876953,\n",
       "  23.876502990722656,\n",
       "  24.37995719909668,\n",
       "  24.211551666259766,\n",
       "  24.175212860107422,\n",
       "  24.297042846679688,\n",
       "  24.3339786529541,\n",
       "  24.158554077148438,\n",
       "  24.427431106567383,\n",
       "  24.345882415771484]}"
      ]
     },
     "execution_count": 69,
     "metadata": {},
     "output_type": "execute_result"
    }
   ],
   "source": [
    "model.history.history"
   ]
  },
  {
   "cell_type": "code",
   "execution_count": 70,
   "id": "385d158a",
   "metadata": {},
   "outputs": [],
   "source": [
    "loss = model.history.history['loss']"
   ]
  },
  {
   "cell_type": "code",
   "execution_count": 71,
   "id": "9bcbb894",
   "metadata": {},
   "outputs": [],
   "source": [
    "import matplotlib.pyplot as plt"
   ]
  },
  {
   "cell_type": "code",
   "execution_count": 72,
   "id": "ecfebaf0",
   "metadata": {},
   "outputs": [
    {
     "data": {
      "text/plain": [
       "Text(0.5, 1.0, 'Training loss per epoch')"
      ]
     },
     "execution_count": 72,
     "metadata": {},
     "output_type": "execute_result"
    },
    {
     "data": {
      "image/png": "[encoded data removed]",
      "text/plain": [
       "<Figure size 432x288 with 1 Axes>"
      ]
     },
     "metadata": {
      "needs_background": "light"
     },
     "output_type": "display_data"
    }
   ],
   "source": [
    "sns.lineplot(x=range(len(loss)), y=loss)\n",
    "plt.title('Training loss per epoch')"
   ]
  },
  {
   "cell_type": "markdown",
   "id": "bc738e7d",
   "metadata": {},
   "source": [
    "## Compare final evaluation on training set and test set"
   ]
  },
  {
   "cell_type": "code",
   "execution_count": 73,
   "id": "1efd28b2",
   "metadata": {},
   "outputs": [
    {
     "data": {
      "text/plain": [
       "['loss']"
      ]
     },
     "execution_count": 73,
     "metadata": {},
     "output_type": "execute_result"
    }
   ],
   "source": [
    "model.metrics_names"
   ]
  },
  {
   "cell_type": "code",
   "execution_count": 74,
   "id": "09e7ac8e",
   "metadata": {},
   "outputs": [],
   "source": [
    "train_score = model.evaluate(X_train, y_train, verbose=0)\n",
    "test_score = model.evaluate(X_test, y_test, verbose=0)"
   ]
  },
  {
   "cell_type": "code",
   "execution_count": 75,
   "id": "71112586",
   "metadata": {},
   "outputs": [
    {
     "data": {
      "text/plain": [
       "24.59168815612793"
      ]
     },
     "execution_count": 75,
     "metadata": {},
     "output_type": "execute_result"
    }
   ],
   "source": [
    "train_score"
   ]
  },
  {
   "cell_type": "code",
   "execution_count": 76,
   "id": "0285c805",
   "metadata": {},
   "outputs": [
    {
     "data": {
      "text/plain": [
       "25.2056941986084"
      ]
     },
     "execution_count": 76,
     "metadata": {},
     "output_type": "execute_result"
    }
   ],
   "source": [
    "test_score"
   ]
  },
  {
   "cell_type": "markdown",
   "id": "2992e4b5",
   "metadata": {},
   "source": [
    "## Further Evaluations"
   ]
  },
  {
   "cell_type": "code",
   "execution_count": 77,
   "id": "f9b0963b",
   "metadata": {},
   "outputs": [],
   "source": [
    "test_pred = model.predict(X_test)"
   ]
  },
  {
   "cell_type": "code",
   "execution_count": 78,
   "id": "90c43481",
   "metadata": {},
   "outputs": [
    {
     "data": {
      "text/plain": [
       "array([[404.73892],\n",
       "       [622.8666 ],\n",
       "       [591.47253],\n",
       "       [571.59076],\n",
       "       [366.10434],\n",
       "       [578.5337 ],\n",
       "       [514.45685],\n",
       "       [458.52017],\n",
       "       [548.6224 ],\n",
       "       [446.93747],\n",
       "       [611.11896],\n",
       "       [548.29785],\n",
       "       [418.54272],\n",
       "       [408.32095],\n",
       "       [650.5359 ],\n",
       "       [436.72592],\n",
       "       [507.82986],\n",
       "       [659.2529 ],\n",
       "       [661.8951 ],\n",
       "       [564.89044],\n",
       "       [333.72537],\n",
       "       [444.26212],\n",
       "       [381.99487],\n",
       "       [378.21838],\n",
       "       [565.9555 ],\n",
       "       [609.9356 ],\n",
       "       [531.7716 ],\n",
       "       [427.29544],\n",
       "       [654.76373],\n",
       "       [413.51932],\n",
       "       [442.0582 ],\n",
       "       [484.53268],\n",
       "       [437.84402],\n",
       "       [681.1507 ],\n",
       "       [424.18533],\n",
       "       [417.13583],\n",
       "       [501.30472],\n",
       "       [549.8423 ],\n",
       "       [509.13754],\n",
       "       [394.82822],\n",
       "       [617.91766],\n",
       "       [416.06656],\n",
       "       [603.78436],\n",
       "       [445.37473],\n",
       "       [501.38483],\n",
       "       [581.0483 ],\n",
       "       [668.28955],\n",
       "       [489.7982 ],\n",
       "       [318.0693 ],\n",
       "       [484.8336 ],\n",
       "       [516.64874],\n",
       "       [381.24652],\n",
       "       [541.2695 ],\n",
       "       [408.04202],\n",
       "       [640.8332 ],\n",
       "       [490.48196],\n",
       "       [627.28314],\n",
       "       [626.3124 ],\n",
       "       [446.49655],\n",
       "       [484.11813],\n",
       "       [490.54544],\n",
       "       [473.9473 ],\n",
       "       [682.0809 ],\n",
       "       [402.74612],\n",
       "       [700.42035],\n",
       "       [585.7535 ],\n",
       "       [582.47125],\n",
       "       [537.2252 ],\n",
       "       [483.9833 ],\n",
       "       [515.95856],\n",
       "       [360.69772],\n",
       "       [540.131  ],\n",
       "       [569.9924 ],\n",
       "       [527.8214 ],\n",
       "       [453.1423 ],\n",
       "       [530.5176 ],\n",
       "       [506.59256],\n",
       "       [442.77646],\n",
       "       [542.7456 ],\n",
       "       [640.06165],\n",
       "       [465.44727],\n",
       "       [566.61597],\n",
       "       [690.0459 ],\n",
       "       [458.1639 ],\n",
       "       [708.20526],\n",
       "       [472.1132 ],\n",
       "       [402.7176 ],\n",
       "       [584.4567 ],\n",
       "       [436.17575],\n",
       "       [488.36148],\n",
       "       [616.3676 ],\n",
       "       [438.90048],\n",
       "       [454.76382],\n",
       "       [434.6984 ],\n",
       "       [506.32004],\n",
       "       [607.79193],\n",
       "       [321.1295 ],\n",
       "       [435.70126],\n",
       "       [535.7173 ],\n",
       "       [518.03326],\n",
       "       [604.40656],\n",
       "       [524.83673],\n",
       "       [333.6161 ],\n",
       "       [575.5078 ],\n",
       "       [431.24396],\n",
       "       [561.89825],\n",
       "       [512.79596],\n",
       "       [390.55203],\n",
       "       [565.6353 ],\n",
       "       [454.2046 ],\n",
       "       [447.9211 ],\n",
       "       [640.2812 ],\n",
       "       [523.7519 ],\n",
       "       [550.04987],\n",
       "       [417.1409 ],\n",
       "       [478.15768],\n",
       "       [585.87524],\n",
       "       [666.6922 ],\n",
       "       [699.759  ],\n",
       "       [658.72614],\n",
       "       [559.933  ],\n",
       "       [502.5641 ],\n",
       "       [389.83112],\n",
       "       [280.86966],\n",
       "       [479.02222],\n",
       "       [615.69403],\n",
       "       [372.77057],\n",
       "       [511.655  ],\n",
       "       [510.43918],\n",
       "       [492.89935],\n",
       "       [479.87094],\n",
       "       [423.24854],\n",
       "       [492.86746],\n",
       "       [470.8871 ],\n",
       "       [599.77826],\n",
       "       [572.9222 ],\n",
       "       [414.43307],\n",
       "       [629.9732 ],\n",
       "       [465.78528],\n",
       "       [563.6952 ],\n",
       "       [405.1423 ],\n",
       "       [531.56177],\n",
       "       [572.00024],\n",
       "       [356.5664 ],\n",
       "       [549.2167 ],\n",
       "       [602.7029 ],\n",
       "       [383.77313],\n",
       "       [541.7819 ],\n",
       "       [561.9618 ],\n",
       "       [452.30328],\n",
       "       [631.53296],\n",
       "       [371.74246],\n",
       "       [473.68027],\n",
       "       [528.26935],\n",
       "       [371.76663],\n",
       "       [460.67255],\n",
       "       [435.76102],\n",
       "       [497.90085],\n",
       "       [345.58844],\n",
       "       [394.74286],\n",
       "       [603.92224],\n",
       "       [506.0488 ],\n",
       "       [468.0379 ],\n",
       "       [489.76694],\n",
       "       [534.6482 ],\n",
       "       [343.99136],\n",
       "       [511.6952 ],\n",
       "       [250.3366 ],\n",
       "       [503.48825],\n",
       "       [540.50134],\n",
       "       [488.78336],\n",
       "       [470.48544],\n",
       "       [392.00867],\n",
       "       [415.68466],\n",
       "       [548.959  ],\n",
       "       [475.22296],\n",
       "       [579.3188 ],\n",
       "       [489.19437],\n",
       "       [600.35223],\n",
       "       [546.36566],\n",
       "       [541.3372 ],\n",
       "       [499.98392],\n",
       "       [645.1658 ],\n",
       "       [559.7917 ],\n",
       "       [577.27924],\n",
       "       [443.5483 ],\n",
       "       [414.9565 ],\n",
       "       [419.49783],\n",
       "       [568.4792 ],\n",
       "       [608.36304],\n",
       "       [437.18613],\n",
       "       [487.3765 ],\n",
       "       [587.12177],\n",
       "       [524.78253],\n",
       "       [356.85013],\n",
       "       [644.7498 ],\n",
       "       [527.43207],\n",
       "       [336.70514],\n",
       "       [492.10147],\n",
       "       [409.59518],\n",
       "       [605.94403],\n",
       "       [346.00836],\n",
       "       [521.7972 ],\n",
       "       [404.13907],\n",
       "       [257.97314],\n",
       "       [519.2812 ],\n",
       "       [340.36563],\n",
       "       [361.54218],\n",
       "       [575.767  ],\n",
       "       [416.1107 ],\n",
       "       [550.3713 ],\n",
       "       [520.4838 ],\n",
       "       [510.1946 ],\n",
       "       [324.24637],\n",
       "       [403.62527],\n",
       "       [601.76044],\n",
       "       [617.21   ],\n",
       "       [602.64215],\n",
       "       [565.6434 ],\n",
       "       [472.8578 ],\n",
       "       [459.79276],\n",
       "       [507.83463],\n",
       "       [445.32724],\n",
       "       [510.69635],\n",
       "       [501.80038],\n",
       "       [399.5898 ],\n",
       "       [604.87714],\n",
       "       [257.6755 ],\n",
       "       [627.5816 ],\n",
       "       [588.46594],\n",
       "       [326.63495],\n",
       "       [478.9761 ],\n",
       "       [594.69415],\n",
       "       [377.86328],\n",
       "       [459.58182],\n",
       "       [324.4965 ],\n",
       "       [518.075  ],\n",
       "       [409.05484],\n",
       "       [555.6174 ],\n",
       "       [641.21216],\n",
       "       [536.211  ],\n",
       "       [502.57236],\n",
       "       [634.3576 ],\n",
       "       [514.6302 ],\n",
       "       [531.0955 ],\n",
       "       [518.2288 ],\n",
       "       [456.8634 ],\n",
       "       [505.21692],\n",
       "       [460.5258 ],\n",
       "       [591.0365 ],\n",
       "       [465.33896],\n",
       "       [426.63504],\n",
       "       [540.98566],\n",
       "       [493.21222],\n",
       "       [679.07086],\n",
       "       [372.24152],\n",
       "       [550.986  ],\n",
       "       [577.3265 ],\n",
       "       [433.41568],\n",
       "       [542.4114 ],\n",
       "       [585.3417 ],\n",
       "       [578.59564],\n",
       "       [720.2264 ],\n",
       "       [432.20078],\n",
       "       [398.04642],\n",
       "       [313.5059 ],\n",
       "       [447.7206 ],\n",
       "       [387.53305],\n",
       "       [542.59344],\n",
       "       [522.13074],\n",
       "       [563.83777],\n",
       "       [447.4451 ],\n",
       "       [533.78876],\n",
       "       [381.25394],\n",
       "       [500.9153 ],\n",
       "       [636.44415],\n",
       "       [495.93826],\n",
       "       [567.7648 ],\n",
       "       [469.53812],\n",
       "       [272.81403],\n",
       "       [516.7663 ],\n",
       "       [620.74243],\n",
       "       [349.99753],\n",
       "       [449.8904 ],\n",
       "       [498.70102],\n",
       "       [542.35516],\n",
       "       [611.1606 ],\n",
       "       [387.65732],\n",
       "       [448.8474 ],\n",
       "       [481.82077],\n",
       "       [597.6706 ],\n",
       "       [498.79977],\n",
       "       [320.95645],\n",
       "       [554.5195 ],\n",
       "       [444.0627 ],\n",
       "       [528.43243],\n",
       "       [515.01843],\n",
       "       [608.98444],\n",
       "       [416.3897 ],\n",
       "       [410.32834]], dtype=float32)"
      ]
     },
     "execution_count": 78,
     "metadata": {},
     "output_type": "execute_result"
    }
   ],
   "source": [
    "test_pred"
   ]
  },
  {
   "cell_type": "code",
   "execution_count": 79,
   "id": "add463cb",
   "metadata": {},
   "outputs": [],
   "source": [
    "pred_df = pd.DataFrame(y_test, columns=['Y test'])"
   ]
  },
  {
   "cell_type": "code",
   "execution_count": 80,
   "id": "b98a0bdc",
   "metadata": {},
   "outputs": [
    {
     "data": {
      "text/html": [
       "<div>\n",
       "<style scoped>\n",
       "    .dataframe tbody tr th:only-of-type {\n",
       "        vertical-align: middle;\n",
       "    }\n",
       "\n",
       "    .dataframe tbody tr th {\n",
       "        vertical-align: top;\n",
       "    }\n",
       "\n",
       "    .dataframe thead th {\n",
       "        text-align: right;\n",
       "    }\n",
       "</style>\n",
       "<table border=\"1\" class=\"dataframe\">\n",
       "  <thead>\n",
       "    <tr style=\"text-align: right;\">\n",
       "      <th></th>\n",
       "      <th>Y test</th>\n",
       "    </tr>\n",
       "  </thead>\n",
       "  <tbody>\n",
       "    <tr>\n",
       "      <th>0</th>\n",
       "      <td>402.296319</td>\n",
       "    </tr>\n",
       "    <tr>\n",
       "      <th>1</th>\n",
       "      <td>624.156198</td>\n",
       "    </tr>\n",
       "    <tr>\n",
       "      <th>2</th>\n",
       "      <td>582.455066</td>\n",
       "    </tr>\n",
       "    <tr>\n",
       "      <th>3</th>\n",
       "      <td>578.588606</td>\n",
       "    </tr>\n",
       "    <tr>\n",
       "      <th>4</th>\n",
       "      <td>371.224104</td>\n",
       "    </tr>\n",
       "    <tr>\n",
       "      <th>...</th>\n",
       "      <td>...</td>\n",
       "    </tr>\n",
       "    <tr>\n",
       "      <th>295</th>\n",
       "      <td>525.704657</td>\n",
       "    </tr>\n",
       "    <tr>\n",
       "      <th>296</th>\n",
       "      <td>502.909473</td>\n",
       "    </tr>\n",
       "    <tr>\n",
       "      <th>297</th>\n",
       "      <td>612.727910</td>\n",
       "    </tr>\n",
       "    <tr>\n",
       "      <th>298</th>\n",
       "      <td>417.569725</td>\n",
       "    </tr>\n",
       "    <tr>\n",
       "      <th>299</th>\n",
       "      <td>410.538250</td>\n",
       "    </tr>\n",
       "  </tbody>\n",
       "</table>\n",
       "<p>300 rows × 1 columns</p>\n",
       "</div>"
      ],
      "text/plain": [
       "         Y test\n",
       "0    402.296319\n",
       "1    624.156198\n",
       "2    582.455066\n",
       "3    578.588606\n",
       "4    371.224104\n",
       "..          ...\n",
       "295  525.704657\n",
       "296  502.909473\n",
       "297  612.727910\n",
       "298  417.569725\n",
       "299  410.538250\n",
       "\n",
       "[300 rows x 1 columns]"
      ]
     },
     "execution_count": 80,
     "metadata": {},
     "output_type": "execute_result"
    }
   ],
   "source": [
    "pred_df"
   ]
  },
  {
   "cell_type": "code",
   "execution_count": 81,
   "id": "48260a66",
   "metadata": {},
   "outputs": [],
   "source": [
    "test_pred = pd.Series(test_pred.reshape(300,))"
   ]
  },
  {
   "cell_type": "code",
   "execution_count": 83,
   "id": "6987bc5e",
   "metadata": {},
   "outputs": [],
   "source": [
    "pred_df = pd.concat([pred_df, test_pred], axis=1)"
   ]
  },
  {
   "cell_type": "code",
   "execution_count": 84,
   "id": "e225a454",
   "metadata": {},
   "outputs": [
    {
     "data": {
      "text/html": [
       "<div>\n",
       "<style scoped>\n",
       "    .dataframe tbody tr th:only-of-type {\n",
       "        vertical-align: middle;\n",
       "    }\n",
       "\n",
       "    .dataframe tbody tr th {\n",
       "        vertical-align: top;\n",
       "    }\n",
       "\n",
       "    .dataframe thead th {\n",
       "        text-align: right;\n",
       "    }\n",
       "</style>\n",
       "<table border=\"1\" class=\"dataframe\">\n",
       "  <thead>\n",
       "    <tr style=\"text-align: right;\">\n",
       "      <th></th>\n",
       "      <th>Y test</th>\n",
       "      <th>0</th>\n",
       "    </tr>\n",
       "  </thead>\n",
       "  <tbody>\n",
       "    <tr>\n",
       "      <th>0</th>\n",
       "      <td>402.296319</td>\n",
       "      <td>404.738922</td>\n",
       "    </tr>\n",
       "    <tr>\n",
       "      <th>1</th>\n",
       "      <td>624.156198</td>\n",
       "      <td>622.866577</td>\n",
       "    </tr>\n",
       "    <tr>\n",
       "      <th>2</th>\n",
       "      <td>582.455066</td>\n",
       "      <td>591.472534</td>\n",
       "    </tr>\n",
       "    <tr>\n",
       "      <th>3</th>\n",
       "      <td>578.588606</td>\n",
       "      <td>571.590759</td>\n",
       "    </tr>\n",
       "    <tr>\n",
       "      <th>4</th>\n",
       "      <td>371.224104</td>\n",
       "      <td>366.104340</td>\n",
       "    </tr>\n",
       "    <tr>\n",
       "      <th>...</th>\n",
       "      <td>...</td>\n",
       "      <td>...</td>\n",
       "    </tr>\n",
       "    <tr>\n",
       "      <th>295</th>\n",
       "      <td>525.704657</td>\n",
       "      <td>528.432434</td>\n",
       "    </tr>\n",
       "    <tr>\n",
       "      <th>296</th>\n",
       "      <td>502.909473</td>\n",
       "      <td>515.018433</td>\n",
       "    </tr>\n",
       "    <tr>\n",
       "      <th>297</th>\n",
       "      <td>612.727910</td>\n",
       "      <td>608.984436</td>\n",
       "    </tr>\n",
       "    <tr>\n",
       "      <th>298</th>\n",
       "      <td>417.569725</td>\n",
       "      <td>416.389709</td>\n",
       "    </tr>\n",
       "    <tr>\n",
       "      <th>299</th>\n",
       "      <td>410.538250</td>\n",
       "      <td>410.328339</td>\n",
       "    </tr>\n",
       "  </tbody>\n",
       "</table>\n",
       "<p>300 rows × 2 columns</p>\n",
       "</div>"
      ],
      "text/plain": [
       "         Y test           0\n",
       "0    402.296319  404.738922\n",
       "1    624.156198  622.866577\n",
       "2    582.455066  591.472534\n",
       "3    578.588606  571.590759\n",
       "4    371.224104  366.104340\n",
       "..          ...         ...\n",
       "295  525.704657  528.432434\n",
       "296  502.909473  515.018433\n",
       "297  612.727910  608.984436\n",
       "298  417.569725  416.389709\n",
       "299  410.538250  410.328339\n",
       "\n",
       "[300 rows x 2 columns]"
      ]
     },
     "execution_count": 84,
     "metadata": {},
     "output_type": "execute_result"
    }
   ],
   "source": [
    "pred_df"
   ]
  },
  {
   "cell_type": "code",
   "execution_count": 85,
   "id": "1ccae82d",
   "metadata": {},
   "outputs": [],
   "source": [
    "pred_df.columns = ['Y test', 'Prediction']"
   ]
  },
  {
   "cell_type": "code",
   "execution_count": 88,
   "id": "02015243",
   "metadata": {},
   "outputs": [
    {
     "data": {
      "text/html": [
       "<div>\n",
       "<style scoped>\n",
       "    .dataframe tbody tr th:only-of-type {\n",
       "        vertical-align: middle;\n",
       "    }\n",
       "\n",
       "    .dataframe tbody tr th {\n",
       "        vertical-align: top;\n",
       "    }\n",
       "\n",
       "    .dataframe thead th {\n",
       "        text-align: right;\n",
       "    }\n",
       "</style>\n",
       "<table border=\"1\" class=\"dataframe\">\n",
       "  <thead>\n",
       "    <tr style=\"text-align: right;\">\n",
       "      <th></th>\n",
       "      <th>Y test</th>\n",
       "      <th>Prediction</th>\n",
       "    </tr>\n",
       "  </thead>\n",
       "  <tbody>\n",
       "    <tr>\n",
       "      <th>0</th>\n",
       "      <td>402.296319</td>\n",
       "      <td>404.738922</td>\n",
       "    </tr>\n",
       "    <tr>\n",
       "      <th>1</th>\n",
       "      <td>624.156198</td>\n",
       "      <td>622.866577</td>\n",
       "    </tr>\n",
       "    <tr>\n",
       "      <th>2</th>\n",
       "      <td>582.455066</td>\n",
       "      <td>591.472534</td>\n",
       "    </tr>\n",
       "    <tr>\n",
       "      <th>3</th>\n",
       "      <td>578.588606</td>\n",
       "      <td>571.590759</td>\n",
       "    </tr>\n",
       "    <tr>\n",
       "      <th>4</th>\n",
       "      <td>371.224104</td>\n",
       "      <td>366.104340</td>\n",
       "    </tr>\n",
       "  </tbody>\n",
       "</table>\n",
       "</div>"
      ],
      "text/plain": [
       "       Y test  Prediction\n",
       "0  402.296319  404.738922\n",
       "1  624.156198  622.866577\n",
       "2  582.455066  591.472534\n",
       "3  578.588606  571.590759\n",
       "4  371.224104  366.104340"
      ]
     },
     "execution_count": 88,
     "metadata": {},
     "output_type": "execute_result"
    }
   ],
   "source": [
    "pred_df.head()"
   ]
  },
  {
   "cell_type": "code",
   "execution_count": 89,
   "id": "9dbdd0ed",
   "metadata": {},
   "outputs": [
    {
     "data": {
      "text/plain": [
       "<AxesSubplot:xlabel='Y test', ylabel='Prediction'>"
      ]
     },
     "execution_count": 89,
     "metadata": {},
     "output_type": "execute_result"
    },
    {
     "data": {
      "image/png": "[encoded data removed]",
      "text/plain": [
       "<Figure size 432x288 with 1 Axes>"
      ]
     },
     "metadata": {
      "needs_background": "light"
     },
     "output_type": "display_data"
    }
   ],
   "source": [
    "sns.scatterplot(x='Y test', y='Prediction', data=pred_df)"
   ]
  },
  {
   "cell_type": "code",
   "execution_count": 90,
   "id": "ec870cb3",
   "metadata": {},
   "outputs": [],
   "source": [
    "pred_df['Error'] = pred_df['Y test'] - pred_df['Prediction']"
   ]
  },
  {
   "cell_type": "code",
   "execution_count": 91,
   "id": "0d23c762",
   "metadata": {},
   "outputs": [
    {
     "data": {
      "text/html": [
       "<div>\n",
       "<style scoped>\n",
       "    .dataframe tbody tr th:only-of-type {\n",
       "        vertical-align: middle;\n",
       "    }\n",
       "\n",
       "    .dataframe tbody tr th {\n",
       "        vertical-align: top;\n",
       "    }\n",
       "\n",
       "    .dataframe thead th {\n",
       "        text-align: right;\n",
       "    }\n",
       "</style>\n",
       "<table border=\"1\" class=\"dataframe\">\n",
       "  <thead>\n",
       "    <tr style=\"text-align: right;\">\n",
       "      <th></th>\n",
       "      <th>Y test</th>\n",
       "      <th>Prediction</th>\n",
       "      <th>Error</th>\n",
       "    </tr>\n",
       "  </thead>\n",
       "  <tbody>\n",
       "    <tr>\n",
       "      <th>0</th>\n",
       "      <td>402.296319</td>\n",
       "      <td>404.738922</td>\n",
       "      <td>-2.442603</td>\n",
       "    </tr>\n",
       "    <tr>\n",
       "      <th>1</th>\n",
       "      <td>624.156198</td>\n",
       "      <td>622.866577</td>\n",
       "      <td>1.289621</td>\n",
       "    </tr>\n",
       "    <tr>\n",
       "      <th>2</th>\n",
       "      <td>582.455066</td>\n",
       "      <td>591.472534</td>\n",
       "      <td>-9.017468</td>\n",
       "    </tr>\n",
       "    <tr>\n",
       "      <th>3</th>\n",
       "      <td>578.588606</td>\n",
       "      <td>571.590759</td>\n",
       "      <td>6.997847</td>\n",
       "    </tr>\n",
       "    <tr>\n",
       "      <th>4</th>\n",
       "      <td>371.224104</td>\n",
       "      <td>366.104340</td>\n",
       "      <td>5.119764</td>\n",
       "    </tr>\n",
       "  </tbody>\n",
       "</table>\n",
       "</div>"
      ],
      "text/plain": [
       "       Y test  Prediction     Error\n",
       "0  402.296319  404.738922 -2.442603\n",
       "1  624.156198  622.866577  1.289621\n",
       "2  582.455066  591.472534 -9.017468\n",
       "3  578.588606  571.590759  6.997847\n",
       "4  371.224104  366.104340  5.119764"
      ]
     },
     "execution_count": 91,
     "metadata": {},
     "output_type": "execute_result"
    }
   ],
   "source": [
    "pred_df.head()"
   ]
  },
  {
   "cell_type": "code",
   "execution_count": 94,
   "id": "feb573cd",
   "metadata": {},
   "outputs": [
    {
     "data": {
      "text/plain": [
       "<seaborn.axisgrid.FacetGrid at 0x21b7c75b670>"
      ]
     },
     "execution_count": 94,
     "metadata": {},
     "output_type": "execute_result"
    },
    {
     "data": {
      "image/png": "[encoded data removed]",
      "text/plain": [
       "<Figure size 360x360 with 1 Axes>"
      ]
     },
     "metadata": {
      "needs_background": "light"
     },
     "output_type": "display_data"
    }
   ],
   "source": [
    "sns.displot(pred_df['Error'], bins=50, kde=True)"
   ]
  },
  {
   "cell_type": "code",
   "execution_count": 95,
   "id": "80815f05",
   "metadata": {},
   "outputs": [],
   "source": [
    "from sklearn.metrics import mean_absolute_error, mean_squared_error"
   ]
  },
  {
   "cell_type": "code",
   "execution_count": 96,
   "id": "09e2424e",
   "metadata": {},
   "outputs": [
    {
     "data": {
      "text/plain": [
       "4.017455744173284"
      ]
     },
     "execution_count": 96,
     "metadata": {},
     "output_type": "execute_result"
    }
   ],
   "source": [
    "mean_absolute_error(pred_df['Y test'], pred_df['Prediction'])"
   ]
  },
  {
   "cell_type": "code",
   "execution_count": 98,
   "id": "23968b41",
   "metadata": {},
   "outputs": [
    {
     "data": {
      "text/plain": [
       "25.205678445919798"
      ]
     },
     "execution_count": 98,
     "metadata": {},
     "output_type": "execute_result"
    }
   ],
   "source": [
    "mean_squared_error(pred_df['Y test'], pred_df['Prediction'])"
   ]
  },
  {
   "cell_type": "code",
   "execution_count": 101,
   "id": "91801ad2",
   "metadata": {},
   "outputs": [
    {
     "data": {
      "text/plain": [
       "25.2056941986084"
      ]
     },
     "execution_count": 101,
     "metadata": {},
     "output_type": "execute_result"
    }
   ],
   "source": [
    "test_score  # Similar to the loss function stated when creating the model which is MSE"
   ]
  },
  {
   "cell_type": "code",
   "execution_count": 102,
   "id": "30341bf9",
   "metadata": {},
   "outputs": [
    {
     "data": {
      "text/plain": [
       "5.020525714098056"
      ]
     },
     "execution_count": 102,
     "metadata": {},
     "output_type": "execute_result"
    }
   ],
   "source": [
    "mean_squared_error(pred_df['Y test'], pred_df['Prediction']) ** 0.5  # Root mean squared error"
   ]
  },
  {
   "cell_type": "markdown",
   "id": "6b8ed107",
   "metadata": {},
   "source": [
    "## Predicting on brand new data"
   ]
  },
  {
   "cell_type": "code",
   "execution_count": 110,
   "id": "94adfd52",
   "metadata": {},
   "outputs": [],
   "source": [
    "# [[feature1, feature2]]\n",
    "new_feat = [[997, 1000]]"
   ]
  },
  {
   "cell_type": "code",
   "execution_count": 111,
   "id": "91dcb2c7",
   "metadata": {},
   "outputs": [
    {
     "data": {
      "text/plain": [
       "array([[-0.02373024,  0.53968792]])"
      ]
     },
     "execution_count": 111,
     "metadata": {},
     "output_type": "execute_result"
    }
   ],
   "source": [
    "scaler.transform(new_feat)"
   ]
  },
  {
   "cell_type": "code",
   "execution_count": 112,
   "id": "04c842bd",
   "metadata": {},
   "outputs": [
    {
     "data": {
      "text/plain": [
       "array([[379.1685]], dtype=float32)"
      ]
     },
     "execution_count": 112,
     "metadata": {},
     "output_type": "execute_result"
    }
   ],
   "source": [
    "model.predict(scaler.transform(new_feat))"
   ]
  },
  {
   "cell_type": "markdown",
   "id": "54c26c25",
   "metadata": {},
   "source": [
    "## Saving and Loading a Model"
   ]
  },
  {
   "cell_type": "code",
   "execution_count": 113,
   "id": "7c82b5d3",
   "metadata": {},
   "outputs": [],
   "source": [
    "from tensorflow.keras.models import load_model"
   ]
  },
  {
   "cell_type": "code",
   "execution_count": 114,
   "id": "f74636a3",
   "metadata": {},
   "outputs": [],
   "source": [
    "model.save('gem_model.h5')"
   ]
  },
  {
   "cell_type": "code",
   "execution_count": 118,
   "id": "3f77b3ae",
   "metadata": {},
   "outputs": [],
   "source": [
    "loaded_model = load_model('gem_model.h5')"
   ]
  },
  {
   "cell_type": "code",
   "execution_count": 120,
   "id": "1ced7c71",
   "metadata": {},
   "outputs": [
    {
     "data": {
      "text/plain": [
       "array([[379.1685]], dtype=float32)"
      ]
     },
     "execution_count": 120,
     "metadata": {},
     "output_type": "execute_result"
    }
   ],
   "source": [
    "loaded_model.predict(scaler.transform(new_feat))"
   ]
  }
 ],
 "metadata": {
  "kernelspec": {
   "display_name": "Python 3",
   "language": "python",
   "name": "python3"
  },
  "language_info": {
   "codemirror_mode": {
    "name": "ipython",
    "version": 3
   },
   "file_extension": ".py",
   "mimetype": "text/x-python",
   "name": "python",
   "nbconvert_exporter": "python",
   "pygments_lexer": "ipython3",
   "version": "3.8.8"
  }
 },
 "nbformat": 4,
 "nbformat_minor": 5
}
